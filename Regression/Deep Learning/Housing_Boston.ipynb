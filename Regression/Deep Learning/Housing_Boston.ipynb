{
  "nbformat": 4,
  "nbformat_minor": 0,
  "metadata": {
    "colab": {
      "provenance": []
    },
    "kernelspec": {
      "name": "python3",
      "display_name": "Python 3"
    },
    "language_info": {
      "name": "python"
    }
  },
  "cells": [
    {
      "cell_type": "code",
      "execution_count": null,
      "metadata": {
        "id": "BkZLCxth7jjj"
      },
      "outputs": [],
      "source": [
        "import numpy as np\n",
        "import pandas as pd\n",
        "import matplotlib.pyplot as plt\n",
        "import tensorflow as tf\n",
        "from tensorflow.keras.layers import Input, Dense\n",
        "from tensorflow.keras.models import Model,Sequential\n",
        "import warnings\n",
        "warnings.filterwarnings('ignore')\n",
        "from sklearn.model_selection import train_test_split\n",
        "from sklearn.preprocessing import StandardScaler\n"
      ]
    },
    {
      "cell_type": "code",
      "source": [
        "dataframe = pd.read_csv(\"/content/housing.csv\",delim_whitespace = True,header=None)\n",
        "dataset = dataframe.values\n",
        "\n",
        "x = dataset[:,0:13]\n",
        "y = dataset[:, 13]\n",
        "\n",
        "x = StandardScaler().fit_transform(x)\n",
        "x_train,x_test,y_train,y_test = train_test_split(x,y,test_size=0.2,random_state=42)"
      ],
      "metadata": {
        "id": "WzwAzte477ED"
      },
      "execution_count": null,
      "outputs": []
    },
    {
      "cell_type": "code",
      "source": [
        "dataset.shape"
      ],
      "metadata": {
        "colab": {
          "base_uri": "https://localhost:8080/"
        },
        "id": "WZ4CMD_Q9fD7",
        "outputId": "4f364db1-3823-4227-b118-8b681049613a"
      },
      "execution_count": null,
      "outputs": [
        {
          "output_type": "execute_result",
          "data": {
            "text/plain": [
              "(506, 14)"
            ]
          },
          "metadata": {},
          "execution_count": 3
        }
      ]
    },
    {
      "cell_type": "code",
      "source": [
        "dataframe.info()"
      ],
      "metadata": {
        "colab": {
          "base_uri": "https://localhost:8080/"
        },
        "id": "0lay0MT4-A24",
        "outputId": "734bdf57-c7fc-4de8-c5ef-bfce4618c8dd"
      },
      "execution_count": null,
      "outputs": [
        {
          "output_type": "stream",
          "name": "stdout",
          "text": [
            "<class 'pandas.core.frame.DataFrame'>\n",
            "RangeIndex: 506 entries, 0 to 505\n",
            "Data columns (total 14 columns):\n",
            " #   Column  Non-Null Count  Dtype  \n",
            "---  ------  --------------  -----  \n",
            " 0   0       506 non-null    float64\n",
            " 1   1       506 non-null    float64\n",
            " 2   2       506 non-null    float64\n",
            " 3   3       506 non-null    int64  \n",
            " 4   4       506 non-null    float64\n",
            " 5   5       506 non-null    float64\n",
            " 6   6       506 non-null    float64\n",
            " 7   7       506 non-null    float64\n",
            " 8   8       506 non-null    int64  \n",
            " 9   9       506 non-null    float64\n",
            " 10  10      506 non-null    float64\n",
            " 11  11      506 non-null    float64\n",
            " 12  12      506 non-null    float64\n",
            " 13  13      506 non-null    float64\n",
            "dtypes: float64(12), int64(2)\n",
            "memory usage: 55.5 KB\n"
          ]
        }
      ]
    },
    {
      "cell_type": "code",
      "source": [
        "model = Sequential()\n",
        "model.add(Input(shape=x_train.shape[1]))\n",
        "model.add(Dense(128,activation='tanh',kernel_regularizer='L2'))\n",
        "model.add(Dense(64,activation='relu',kernel_regularizer='L2'))\n",
        "model.add(tf.keras.layers.Dropout(0.25))\n",
        "model.add(Dense(16,activation='tanh',kernel_regularizer='L2'))\n",
        "model.add(Dense(4,activation='relu',kernel_regularizer='L2'))\n",
        "model.add(Dense(1))\n",
        "\n",
        "model.build(input_shape=x_train.shape)\n",
        "\n",
        "\n",
        "model.summary()"
      ],
      "metadata": {
        "colab": {
          "base_uri": "https://localhost:8080/"
        },
        "id": "LTD92JSI-GA4",
        "outputId": "8d8d4ee1-e6ba-4dd2-f145-7ce903af5c7a"
      },
      "execution_count": null,
      "outputs": [
        {
          "output_type": "stream",
          "name": "stdout",
          "text": [
            "Model: \"sequential_4\"\n",
            "_________________________________________________________________\n",
            " Layer (type)                Output Shape              Param #   \n",
            "=================================================================\n",
            " dense_17 (Dense)            (None, 128)               1792      \n",
            "                                                                 \n",
            " dense_18 (Dense)            (None, 64)                8256      \n",
            "                                                                 \n",
            " dropout_2 (Dropout)         (None, 64)                0         \n",
            "                                                                 \n",
            " dense_19 (Dense)            (None, 16)                1040      \n",
            "                                                                 \n",
            " dense_20 (Dense)            (None, 4)                 68        \n",
            "                                                                 \n",
            " dense_21 (Dense)            (None, 1)                 5         \n",
            "                                                                 \n",
            "=================================================================\n",
            "Total params: 11,161\n",
            "Trainable params: 11,161\n",
            "Non-trainable params: 0\n",
            "_________________________________________________________________\n"
          ]
        }
      ]
    },
    {
      "cell_type": "code",
      "source": [
        "model.compile(optimizer='adam',loss=tf.keras.losses.mean_squared_error,metrics=tf.keras.metrics.mean_squared_error)\n"
      ],
      "metadata": {
        "id": "Om6rYn7f-ir8"
      },
      "execution_count": null,
      "outputs": []
    },
    {
      "cell_type": "code",
      "source": [
        "model_fitting = model.fit(x_train,y_train,batch_size=10,epochs=50,verbose=1,validation_split=0.2)"
      ],
      "metadata": {
        "colab": {
          "base_uri": "https://localhost:8080/"
        },
        "id": "MFY5PbbpAtis",
        "outputId": "e0e5c8c5-078e-4c99-ed5c-e527581646d6"
      },
      "execution_count": null,
      "outputs": [
        {
          "output_type": "stream",
          "name": "stdout",
          "text": [
            "Epoch 1/75\n",
            "33/33 [==============================] - 1s 6ms/step - loss: 558.6886 - mean_squared_error: 557.2746 - val_loss: 420.1050 - val_mean_squared_error: 418.6718\n",
            "Epoch 2/75\n",
            "33/33 [==============================] - 0s 2ms/step - loss: 416.7254 - mean_squared_error: 415.2625 - val_loss: 309.7720 - val_mean_squared_error: 308.2745\n",
            "Epoch 3/75\n",
            "33/33 [==============================] - 0s 2ms/step - loss: 327.0416 - mean_squared_error: 325.5179 - val_loss: 247.9987 - val_mean_squared_error: 246.4490\n",
            "Epoch 4/75\n",
            "33/33 [==============================] - 0s 3ms/step - loss: 268.2118 - mean_squared_error: 266.6443 - val_loss: 201.4635 - val_mean_squared_error: 199.8795\n",
            "Epoch 5/75\n",
            "33/33 [==============================] - 0s 3ms/step - loss: 223.0127 - mean_squared_error: 221.4178 - val_loss: 165.0921 - val_mean_squared_error: 163.4867\n",
            "Epoch 6/75\n",
            "33/33 [==============================] - 0s 3ms/step - loss: 187.9016 - mean_squared_error: 186.2877 - val_loss: 135.9383 - val_mean_squared_error: 134.3165\n",
            "Epoch 7/75\n",
            "33/33 [==============================] - 0s 3ms/step - loss: 159.3810 - mean_squared_error: 157.7538 - val_loss: 114.3824 - val_mean_squared_error: 112.7494\n",
            "Epoch 8/75\n",
            "33/33 [==============================] - 0s 3ms/step - loss: 137.2503 - mean_squared_error: 135.6142 - val_loss: 97.8224 - val_mean_squared_error: 96.1835\n",
            "Epoch 9/75\n",
            "33/33 [==============================] - 0s 2ms/step - loss: 120.9049 - mean_squared_error: 119.2642 - val_loss: 86.2123 - val_mean_squared_error: 84.5709\n",
            "Epoch 10/75\n",
            "33/33 [==============================] - 0s 3ms/step - loss: 109.1187 - mean_squared_error: 107.4782 - val_loss: 75.4343 - val_mean_squared_error: 73.7941\n",
            "Epoch 11/75\n",
            "33/33 [==============================] - 0s 2ms/step - loss: 95.5372 - mean_squared_error: 93.8937 - val_loss: 67.0261 - val_mean_squared_error: 65.3792\n",
            "Epoch 12/75\n",
            "33/33 [==============================] - 0s 2ms/step - loss: 83.5005 - mean_squared_error: 81.8541 - val_loss: 59.4411 - val_mean_squared_error: 57.7952\n",
            "Epoch 13/75\n",
            "33/33 [==============================] - 0s 2ms/step - loss: 75.9802 - mean_squared_error: 74.3355 - val_loss: 54.2944 - val_mean_squared_error: 52.6504\n",
            "Epoch 14/75\n",
            "33/33 [==============================] - 0s 3ms/step - loss: 68.3300 - mean_squared_error: 66.6864 - val_loss: 50.1218 - val_mean_squared_error: 48.4795\n",
            "Epoch 15/75\n",
            "33/33 [==============================] - 0s 2ms/step - loss: 63.3016 - mean_squared_error: 61.6632 - val_loss: 47.7371 - val_mean_squared_error: 46.1029\n",
            "Epoch 16/75\n",
            "33/33 [==============================] - 0s 2ms/step - loss: 59.1563 - mean_squared_error: 57.5252 - val_loss: 45.7739 - val_mean_squared_error: 44.1447\n",
            "Epoch 17/75\n",
            "33/33 [==============================] - 0s 3ms/step - loss: 55.8616 - mean_squared_error: 54.2361 - val_loss: 44.6343 - val_mean_squared_error: 43.0135\n",
            "Epoch 18/75\n",
            "33/33 [==============================] - 0s 2ms/step - loss: 53.5415 - mean_squared_error: 51.9257 - val_loss: 42.3358 - val_mean_squared_error: 40.7248\n",
            "Epoch 19/75\n",
            "33/33 [==============================] - 0s 2ms/step - loss: 51.2964 - mean_squared_error: 49.6892 - val_loss: 38.2023 - val_mean_squared_error: 36.5988\n",
            "Epoch 20/75\n",
            "33/33 [==============================] - 0s 3ms/step - loss: 46.3052 - mean_squared_error: 44.7010 - val_loss: 34.8295 - val_mean_squared_error: 33.2261\n",
            "Epoch 21/75\n",
            "33/33 [==============================] - 0s 2ms/step - loss: 42.9915 - mean_squared_error: 41.3892 - val_loss: 32.7120 - val_mean_squared_error: 31.1095\n",
            "Epoch 22/75\n",
            "33/33 [==============================] - 0s 3ms/step - loss: 40.2729 - mean_squared_error: 38.6716 - val_loss: 29.2047 - val_mean_squared_error: 27.6018\n",
            "Epoch 23/75\n",
            "33/33 [==============================] - 0s 2ms/step - loss: 36.6317 - mean_squared_error: 35.0280 - val_loss: 27.5357 - val_mean_squared_error: 25.9335\n",
            "Epoch 24/75\n",
            "33/33 [==============================] - 0s 2ms/step - loss: 34.9307 - mean_squared_error: 33.3290 - val_loss: 27.6767 - val_mean_squared_error: 26.0719\n",
            "Epoch 25/75\n",
            "33/33 [==============================] - 0s 2ms/step - loss: 35.0773 - mean_squared_error: 33.4706 - val_loss: 25.5845 - val_mean_squared_error: 23.9727\n",
            "Epoch 26/75\n",
            "33/33 [==============================] - 0s 3ms/step - loss: 31.2182 - mean_squared_error: 29.6057 - val_loss: 22.6548 - val_mean_squared_error: 21.0421\n",
            "Epoch 27/75\n",
            "33/33 [==============================] - 0s 3ms/step - loss: 28.3444 - mean_squared_error: 26.7317 - val_loss: 21.7554 - val_mean_squared_error: 20.1436\n",
            "Epoch 28/75\n",
            "33/33 [==============================] - 0s 3ms/step - loss: 25.9385 - mean_squared_error: 24.3266 - val_loss: 23.7816 - val_mean_squared_error: 22.1671\n",
            "Epoch 29/75\n",
            "33/33 [==============================] - 0s 3ms/step - loss: 25.7851 - mean_squared_error: 24.1698 - val_loss: 20.4952 - val_mean_squared_error: 18.8775\n",
            "Epoch 30/75\n",
            "33/33 [==============================] - 0s 3ms/step - loss: 23.8751 - mean_squared_error: 22.2573 - val_loss: 21.3084 - val_mean_squared_error: 19.6889\n",
            "Epoch 31/75\n",
            "33/33 [==============================] - 0s 2ms/step - loss: 23.0297 - mean_squared_error: 21.4114 - val_loss: 20.5031 - val_mean_squared_error: 18.8829\n",
            "Epoch 32/75\n",
            "33/33 [==============================] - 0s 2ms/step - loss: 21.6340 - mean_squared_error: 20.0153 - val_loss: 20.1350 - val_mean_squared_error: 18.5173\n",
            "Epoch 33/75\n",
            "33/33 [==============================] - 0s 3ms/step - loss: 21.3388 - mean_squared_error: 19.7178 - val_loss: 17.8410 - val_mean_squared_error: 16.2192\n",
            "Epoch 34/75\n",
            "33/33 [==============================] - 0s 3ms/step - loss: 20.1288 - mean_squared_error: 18.5062 - val_loss: 19.6391 - val_mean_squared_error: 18.0130\n",
            "Epoch 35/75\n",
            "33/33 [==============================] - 0s 2ms/step - loss: 20.6585 - mean_squared_error: 19.0334 - val_loss: 18.9630 - val_mean_squared_error: 17.3381\n",
            "Epoch 36/75\n",
            "33/33 [==============================] - 0s 2ms/step - loss: 18.6398 - mean_squared_error: 17.0123 - val_loss: 18.8180 - val_mean_squared_error: 17.1884\n",
            "Epoch 37/75\n",
            "33/33 [==============================] - 0s 2ms/step - loss: 17.8526 - mean_squared_error: 16.2242 - val_loss: 17.7088 - val_mean_squared_error: 16.0789\n",
            "Epoch 38/75\n",
            "33/33 [==============================] - 0s 2ms/step - loss: 17.1280 - mean_squared_error: 15.4967 - val_loss: 15.4895 - val_mean_squared_error: 13.8569\n",
            "Epoch 39/75\n",
            "33/33 [==============================] - 0s 2ms/step - loss: 16.7431 - mean_squared_error: 15.1122 - val_loss: 16.0865 - val_mean_squared_error: 14.4559\n",
            "Epoch 40/75\n",
            "33/33 [==============================] - 0s 3ms/step - loss: 16.8510 - mean_squared_error: 15.2186 - val_loss: 17.0111 - val_mean_squared_error: 15.3777\n",
            "Epoch 41/75\n",
            "33/33 [==============================] - 0s 2ms/step - loss: 16.1904 - mean_squared_error: 14.5538 - val_loss: 18.0244 - val_mean_squared_error: 16.3866\n",
            "Epoch 42/75\n",
            "33/33 [==============================] - 0s 3ms/step - loss: 16.4872 - mean_squared_error: 14.8483 - val_loss: 16.6620 - val_mean_squared_error: 15.0219\n",
            "Epoch 43/75\n",
            "33/33 [==============================] - 0s 3ms/step - loss: 15.2906 - mean_squared_error: 13.6494 - val_loss: 16.8511 - val_mean_squared_error: 15.2082\n",
            "Epoch 44/75\n",
            "33/33 [==============================] - 0s 3ms/step - loss: 14.6030 - mean_squared_error: 12.9606 - val_loss: 14.4997 - val_mean_squared_error: 12.8583\n",
            "Epoch 45/75\n",
            "33/33 [==============================] - 0s 2ms/step - loss: 14.1491 - mean_squared_error: 12.5061 - val_loss: 15.0677 - val_mean_squared_error: 13.4238\n",
            "Epoch 46/75\n",
            "33/33 [==============================] - 0s 2ms/step - loss: 12.8654 - mean_squared_error: 11.2214 - val_loss: 15.6391 - val_mean_squared_error: 13.9928\n",
            "Epoch 47/75\n",
            "33/33 [==============================] - 0s 3ms/step - loss: 13.5972 - mean_squared_error: 11.9528 - val_loss: 15.4585 - val_mean_squared_error: 13.8136\n",
            "Epoch 48/75\n",
            "33/33 [==============================] - 0s 3ms/step - loss: 13.1818 - mean_squared_error: 11.5362 - val_loss: 15.3018 - val_mean_squared_error: 13.6586\n",
            "Epoch 49/75\n",
            "33/33 [==============================] - 0s 2ms/step - loss: 12.9409 - mean_squared_error: 11.2984 - val_loss: 15.3536 - val_mean_squared_error: 13.7097\n",
            "Epoch 50/75\n",
            "33/33 [==============================] - 0s 3ms/step - loss: 12.5389 - mean_squared_error: 10.8937 - val_loss: 15.2116 - val_mean_squared_error: 13.5661\n",
            "Epoch 51/75\n",
            "33/33 [==============================] - 0s 2ms/step - loss: 12.0854 - mean_squared_error: 10.4404 - val_loss: 15.6447 - val_mean_squared_error: 13.9967\n",
            "Epoch 52/75\n",
            "33/33 [==============================] - 0s 2ms/step - loss: 11.8280 - mean_squared_error: 10.1826 - val_loss: 16.8682 - val_mean_squared_error: 15.2200\n",
            "Epoch 53/75\n",
            "33/33 [==============================] - 0s 3ms/step - loss: 12.5707 - mean_squared_error: 10.9208 - val_loss: 15.2787 - val_mean_squared_error: 13.6283\n",
            "Epoch 54/75\n",
            "33/33 [==============================] - 0s 3ms/step - loss: 11.6374 - mean_squared_error: 9.9858 - val_loss: 16.0061 - val_mean_squared_error: 14.3537\n",
            "Epoch 55/75\n",
            "33/33 [==============================] - 0s 2ms/step - loss: 11.1970 - mean_squared_error: 9.5456 - val_loss: 17.3867 - val_mean_squared_error: 15.7313\n",
            "Epoch 56/75\n",
            "33/33 [==============================] - 0s 3ms/step - loss: 10.4581 - mean_squared_error: 8.8034 - val_loss: 15.0103 - val_mean_squared_error: 13.3532\n",
            "Epoch 57/75\n",
            "33/33 [==============================] - 0s 2ms/step - loss: 9.8473 - mean_squared_error: 8.1883 - val_loss: 15.0498 - val_mean_squared_error: 13.3902\n",
            "Epoch 58/75\n",
            "33/33 [==============================] - 0s 3ms/step - loss: 10.1441 - mean_squared_error: 8.4833 - val_loss: 13.3366 - val_mean_squared_error: 11.6747\n",
            "Epoch 59/75\n",
            "33/33 [==============================] - 0s 2ms/step - loss: 10.8600 - mean_squared_error: 9.1976 - val_loss: 14.1066 - val_mean_squared_error: 12.4440\n",
            "Epoch 60/75\n",
            "33/33 [==============================] - 0s 3ms/step - loss: 9.2178 - mean_squared_error: 7.5531 - val_loss: 13.3702 - val_mean_squared_error: 11.7036\n",
            "Epoch 61/75\n",
            "33/33 [==============================] - 0s 2ms/step - loss: 9.2793 - mean_squared_error: 7.6117 - val_loss: 15.0997 - val_mean_squared_error: 13.4300\n",
            "Epoch 62/75\n",
            "33/33 [==============================] - 0s 2ms/step - loss: 9.8414 - mean_squared_error: 8.1715 - val_loss: 14.5786 - val_mean_squared_error: 12.9060\n",
            "Epoch 63/75\n",
            "33/33 [==============================] - 0s 3ms/step - loss: 9.2346 - mean_squared_error: 7.5607 - val_loss: 15.1962 - val_mean_squared_error: 13.5193\n",
            "Epoch 64/75\n",
            "33/33 [==============================] - 0s 2ms/step - loss: 8.5466 - mean_squared_error: 6.8689 - val_loss: 13.2805 - val_mean_squared_error: 11.6020\n",
            "Epoch 65/75\n",
            "33/33 [==============================] - 0s 3ms/step - loss: 9.1051 - mean_squared_error: 7.4256 - val_loss: 12.6221 - val_mean_squared_error: 10.9425\n",
            "Epoch 66/75\n",
            "33/33 [==============================] - 0s 3ms/step - loss: 8.9077 - mean_squared_error: 7.2263 - val_loss: 14.9957 - val_mean_squared_error: 13.3119\n",
            "Epoch 67/75\n",
            "33/33 [==============================] - 0s 2ms/step - loss: 8.2757 - mean_squared_error: 6.5929 - val_loss: 14.1185 - val_mean_squared_error: 12.4351\n",
            "Epoch 68/75\n",
            "33/33 [==============================] - 0s 2ms/step - loss: 8.7209 - mean_squared_error: 7.0400 - val_loss: 13.1122 - val_mean_squared_error: 11.4331\n",
            "Epoch 69/75\n",
            "33/33 [==============================] - 0s 2ms/step - loss: 8.5986 - mean_squared_error: 6.9200 - val_loss: 14.0870 - val_mean_squared_error: 12.4057\n",
            "Epoch 70/75\n",
            "33/33 [==============================] - 0s 2ms/step - loss: 8.8890 - mean_squared_error: 7.2123 - val_loss: 17.3230 - val_mean_squared_error: 15.6444\n",
            "Epoch 71/75\n",
            "33/33 [==============================] - 0s 3ms/step - loss: 7.7521 - mean_squared_error: 6.0737 - val_loss: 13.1647 - val_mean_squared_error: 11.4848\n",
            "Epoch 72/75\n",
            "33/33 [==============================] - 0s 2ms/step - loss: 8.0828 - mean_squared_error: 6.4033 - val_loss: 15.6956 - val_mean_squared_error: 14.0147\n",
            "Epoch 73/75\n",
            "33/33 [==============================] - 0s 2ms/step - loss: 7.5756 - mean_squared_error: 5.8935 - val_loss: 13.0894 - val_mean_squared_error: 11.4089\n",
            "Epoch 74/75\n",
            "33/33 [==============================] - 0s 3ms/step - loss: 7.8596 - mean_squared_error: 6.1783 - val_loss: 12.3593 - val_mean_squared_error: 10.6782\n",
            "Epoch 75/75\n",
            "33/33 [==============================] - 0s 3ms/step - loss: 7.7605 - mean_squared_error: 6.0765 - val_loss: 15.1472 - val_mean_squared_error: 13.4612\n"
          ]
        }
      ]
    },
    {
      "cell_type": "code",
      "source": [
        "# model_fitting = model.fit(x_train,y_train,batch_size=10,epochs=50,verbose=1,validation_split=0.2)"
      ],
      "metadata": {
        "id": "GuoAsaBwM84W"
      },
      "execution_count": null,
      "outputs": []
    },
    {
      "cell_type": "code",
      "source": [
        "# model_fitting = model.fit(x_train,y_train,batch_size=10,epochs=20,verbose=1,validation_split=0.2)"
      ],
      "metadata": {
        "id": "WSrkenMsJ5jx"
      },
      "execution_count": null,
      "outputs": []
    },
    {
      "cell_type": "code",
      "source": [
        "from sklearn.metrics import r2_score\n",
        "\n",
        "train_pred = model.predict(x_train)\n",
        "test_pred = model.predict(x_test)\n",
        "\n",
        "print(r2_score(train_pred,y_train))\n",
        "print(r2_score(test_pred,y_test))"
      ],
      "metadata": {
        "colab": {
          "base_uri": "https://localhost:8080/"
        },
        "id": "_N6aiJpGA7U0",
        "outputId": "7f942c1c-c48f-4c29-ac67-ce4d3bd8233b"
      },
      "execution_count": null,
      "outputs": [
        {
          "output_type": "stream",
          "name": "stdout",
          "text": [
            "13/13 [==============================] - 0s 985us/step\n",
            "4/4 [==============================] - 0s 2ms/step\n",
            "0.927798494419635\n",
            "0.8444566383408155\n"
          ]
        }
      ]
    },
    {
      "cell_type": "code",
      "source": [
        "from sklearn.metrics import r2_score\n",
        "\n",
        "train_pred = model.predict(x_train)\n",
        "test_pred = model.predict(x_test)\n",
        "\n",
        "print(r2_score(train_pred,y_train))\n",
        "print(r2_score(test_pred,y_test))"
      ],
      "metadata": {
        "colab": {
          "base_uri": "https://localhost:8080/"
        },
        "id": "RDKGLMiRKoaS",
        "outputId": "e0180505-24e2-4db1-ef28-04dc8f6d835c"
      },
      "execution_count": null,
      "outputs": [
        {
          "output_type": "stream",
          "name": "stdout",
          "text": [
            "13/13 [==============================] - 0s 2ms/step\n",
            "4/4 [==============================] - 0s 3ms/step\n",
            "0.9485390784591132\n",
            "0.8270506219874966\n"
          ]
        }
      ]
    },
    {
      "cell_type": "code",
      "source": [
        "plt.plot(model_fitting.history['loss'])\n",
        "plt.plot(model_fitting.history['val_loss'])"
      ],
      "metadata": {
        "colab": {
          "base_uri": "https://localhost:8080/",
          "height": 447
        },
        "id": "YAjH2S0qB8Df",
        "outputId": "48ea9b0c-78bf-4577-bb15-9b1a0f4c3e1d"
      },
      "execution_count": null,
      "outputs": [
        {
          "output_type": "execute_result",
          "data": {
            "text/plain": [
              "[<matplotlib.lines.Line2D at 0x7fa3aa3c05b0>]"
            ]
          },
          "metadata": {},
          "execution_count": 12
        },
        {
          "output_type": "display_data",
          "data": {
            "text/plain": [
              "<Figure size 640x480 with 1 Axes>"
            ],
            "image/png": "[encoded data removed]"
          },
          "metadata": {}
        }
      ]
    },
    {
      "cell_type": "code",
      "source": [
        "plt.plot(model_fitting.history['mean_squared_error'])\n",
        "plt.plot(model_fitting.history['val_mean_squared_error'])"
      ],
      "metadata": {
        "colab": {
          "base_uri": "https://localhost:8080/",
          "height": 447
        },
        "id": "Y3gTR5RcCX1T",
        "outputId": "2deaf709-570f-4273-ab7c-ec0b0bf72a49"
      },
      "execution_count": null,
      "outputs": [
        {
          "output_type": "execute_result",
          "data": {
            "text/plain": [
              "[<matplotlib.lines.Line2D at 0x7fe609f2b160>]"
            ]
          },
          "metadata": {},
          "execution_count": 52
        },
        {
          "output_type": "display_data",
          "data": {
            "text/plain": [
              "<Figure size 640x480 with 1 Axes>"
            ],
            "image/png": "[encoded data removed]"
          },
          "metadata": {}
        }
      ]
    },
    {
      "cell_type": "code",
      "source": [],
      "metadata": {
        "id": "CCm8k7U-Cj-G"
      },
      "execution_count": null,
      "outputs": []
    }
  ]
}